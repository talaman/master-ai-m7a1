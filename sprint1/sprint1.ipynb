{
 "cells": [
  {
   "cell_type": "code",
   "execution_count": 1,
   "id": "55f30c94-d8f9-48cf-bf53-e507c681f9e0",
   "metadata": {},
   "outputs": [
    {
     "name": "stdout",
     "output_type": "stream",
     "text": [
      "[{'usuario': 'pantolin', 'valoraciones': {'COBRA KAI': 5, 'CAFE CON AROMA DE MUJER': 3, 'SANDMAN': 4, 'ENOLA HOLMES': 4}}, {'usuario': 'saka92', 'valoraciones': {'COBRA KAI': 3, 'CAFE CON AROMA DE MUJER': 1, 'SANDMAN': 2, 'ENOLA HOLMES': 3, 'STRANGER THINGS': 3}}, {'usuario': 'agarrido', 'valoraciones': {'COBRA KAI': 4, 'CAFE CON AROMA DE MUJER': 3, 'SANDMAN': 4, 'ENOLA HOLMES': 3, 'STRANGER THINGS': 5}}, {'usuario': 'chari89', 'valoraciones': {'COBRA KAI': 3, 'CAFE CON AROMA DE MUJER': 3, 'SANDMAN': 1, 'ENOLA HOLMES': 5, 'STRANGER THINGS': 4}}, {'usuario': 'mario_pzk', 'valoraciones': {'COBRA KAI': 1, 'CAFE CON AROMA DE MUJER': 5, 'SANDMAN': 5, 'ENOLA HOLMES': 2, 'STRANGER THINGS': 1}}]\n"
     ]
    }
   ],
   "source": [
    "valoraciones = [] \n",
    "filmnet = []\n",
    "valoracion = {}\n",
    "valoracion[\"COBRA KAI\"] = 5\n",
    "valoracion[\"CAFE CON AROMA DE MUJER\"] = 3\n",
    "valoracion[\"SANDMAN\"] = 4\n",
    "valoracion[\"ENOLA HOLMES\"] = 4\n",
    "\n",
    "item = {}\n",
    "item[\"usuario\"] = \"pantolin\"\n",
    "item[\"valoraciones\"] = valoracion\n",
    "\n",
    "filmnet = []\n",
    "filmnet.append(item)\n",
    "\n",
    "valoracion = {}\n",
    "valoracion[\"COBRA KAI\"] = 3\n",
    "valoracion[\"CAFE CON AROMA DE MUJER\"] = 1\n",
    "valoracion[\"SANDMAN\"] = 2\n",
    "valoracion[\"ENOLA HOLMES\"] = 3\n",
    "valoracion[\"STRANGER THINGS\"] = 3\n",
    "item = {}\n",
    "item[\"usuario\"] = \"saka92\"\n",
    "item[\"valoraciones\"] = valoracion\n",
    "filmnet.append(item)\n",
    "\n",
    "valoracion = {}\n",
    "valoracion[\"COBRA KAI\"] = 4\n",
    "valoracion[\"CAFE CON AROMA DE MUJER\"] = 3\n",
    "valoracion[\"SANDMAN\"] = 4\n",
    "valoracion[\"ENOLA HOLMES\"] = 3\n",
    "valoracion[\"STRANGER THINGS\"] = 5\n",
    "item = {}\n",
    "item[\"usuario\"] = \"agarrido\"\n",
    "item[\"valoraciones\"] = valoracion\n",
    "filmnet.append(item)\n",
    "\n",
    "valoracion = {}\n",
    "valoracion[\"COBRA KAI\"] = 3\n",
    "valoracion[\"CAFE CON AROMA DE MUJER\"] = 3\n",
    "valoracion[\"SANDMAN\"] = 1\n",
    "valoracion[\"ENOLA HOLMES\"] = 5\n",
    "valoracion[\"STRANGER THINGS\"] = 4\n",
    "item = {}\n",
    "item[\"usuario\"] = \"chari89\"\n",
    "item[\"valoraciones\"] = valoracion\n",
    "filmnet.append(item)\n",
    "\n",
    "valoracion = {}\n",
    "valoracion[\"COBRA KAI\"] = 1\n",
    "valoracion[\"CAFE CON AROMA DE MUJER\"] = 5\n",
    "valoracion[\"SANDMAN\"] = 5\n",
    "valoracion[\"ENOLA HOLMES\"] = 2\n",
    "valoracion[\"STRANGER THINGS\"] = 1\n",
    "item = {}\n",
    "item[\"usuario\"] = \"mario_pzk\"\n",
    "item[\"valoraciones\"] = valoracion\n",
    "filmnet.append(item)\n",
    "\n",
    "print(filmnet)\n"
   ]
  },
  {
   "cell_type": "code",
   "execution_count": 21,
   "id": "7793d1b4-f56f-4fc0-8c2c-18637d7ac505",
   "metadata": {},
   "outputs": [],
   "source": [
    "series = [\"COBRA KAI\", \"CAFE CON AROMA DE MUJER\", \"SANDMAN\", \"ENOLA HOLMES\", \"STRANGER THINGS\"]\n",
    "usuarios = [\"pantolin\",\"saka92\",\"agarrido\",\"chari89\",\"mario_pzk\"]"
   ]
  },
  {
   "cell_type": "code",
   "execution_count": 2,
   "id": "932d9d92-48d5-458c-93cb-d7731fd7639b",
   "metadata": {},
   "outputs": [],
   "source": [
    "f2 = [{'usuario': 'pantolin', 'valoraciones': {'COBRA KAI': 5, 'CAFE CON AROMA DE MUJER': 3, 'SANDMAN': 4, 'ENOLA HOLMES': 4}}, {'usuario': 'saka92', 'valoraciones': {'COBRA KAI': 3, 'CAFE CON AROMA DE MUJER': 1, 'SANDMAN': 2, 'ENOLA HOLMES': 3, 'STRANGER THINGS': 3}}, {'usuario': 'agarrido', 'valoraciones': {'COBRA KAI': 4, 'CAFE CON AROMA DE MUJER': 3, 'SANDMAN': 4, 'ENOLA HOLMES': 3, 'STRANGER THINGS': 5}}, {'usuario': 'chari89', 'valoraciones': {'COBRA KAI': 3, 'CAFE CON AROMA DE MUJER': 3, 'SANDMAN': 1, 'ENOLA HOLMES': 5, 'STRANGER THINGS': 4}}, {'usuario': 'mario_pzk', 'valoraciones': {'COBRA KAI': 1, 'CAFE CON AROMA DE MUJER': 5, 'SANDMAN': 5, 'ENOLA HOLMES': 2, 'STRANGER THINGS': 1}}]"
   ]
  },
  {
   "cell_type": "code",
   "execution_count": 3,
   "id": "5a9a6c0e-6546-4c78-b8d7-81b201f0a232",
   "metadata": {},
   "outputs": [
    {
     "data": {
      "text/plain": [
       "[{'usuario': 'pantolin',\n",
       "  'valoraciones': {'COBRA KAI': 5,\n",
       "   'CAFE CON AROMA DE MUJER': 3,\n",
       "   'SANDMAN': 4,\n",
       "   'ENOLA HOLMES': 4}},\n",
       " {'usuario': 'saka92',\n",
       "  'valoraciones': {'COBRA KAI': 3,\n",
       "   'CAFE CON AROMA DE MUJER': 1,\n",
       "   'SANDMAN': 2,\n",
       "   'ENOLA HOLMES': 3,\n",
       "   'STRANGER THINGS': 3}},\n",
       " {'usuario': 'agarrido',\n",
       "  'valoraciones': {'COBRA KAI': 4,\n",
       "   'CAFE CON AROMA DE MUJER': 3,\n",
       "   'SANDMAN': 4,\n",
       "   'ENOLA HOLMES': 3,\n",
       "   'STRANGER THINGS': 5}},\n",
       " {'usuario': 'chari89',\n",
       "  'valoraciones': {'COBRA KAI': 3,\n",
       "   'CAFE CON AROMA DE MUJER': 3,\n",
       "   'SANDMAN': 1,\n",
       "   'ENOLA HOLMES': 5,\n",
       "   'STRANGER THINGS': 4}},\n",
       " {'usuario': 'mario_pzk',\n",
       "  'valoraciones': {'COBRA KAI': 1,\n",
       "   'CAFE CON AROMA DE MUJER': 5,\n",
       "   'SANDMAN': 5,\n",
       "   'ENOLA HOLMES': 2,\n",
       "   'STRANGER THINGS': 1}}]"
      ]
     },
     "execution_count": 3,
     "metadata": {},
     "output_type": "execute_result"
    }
   ],
   "source": [
    "f2"
   ]
  },
  {
   "cell_type": "code",
   "execution_count": 5,
   "id": "76abaff1-c0bf-4123-9bb7-87080264712b",
   "metadata": {},
   "outputs": [
    {
     "data": {
      "text/plain": [
       "{'usuario': 'pantolin',\n",
       " 'valoraciones': {'COBRA KAI': 5,\n",
       "  'CAFE CON AROMA DE MUJER': 3,\n",
       "  'SANDMAN': 4,\n",
       "  'ENOLA HOLMES': 4}}"
      ]
     },
     "execution_count": 5,
     "metadata": {},
     "output_type": "execute_result"
    }
   ],
   "source": [
    "filmnet[0]"
   ]
  },
  {
   "cell_type": "code",
   "execution_count": 11,
   "id": "7ee262f9-cbaa-491c-a690-1f3b4ff7f6c5",
   "metadata": {},
   "outputs": [
    {
     "data": {
      "text/plain": [
       "5"
      ]
     },
     "execution_count": 11,
     "metadata": {},
     "output_type": "execute_result"
    }
   ],
   "source": [
    "filmnet[0]['valoraciones']['COBRA KAI']"
   ]
  },
  {
   "cell_type": "code",
   "execution_count": 12,
   "id": "d17ac62f-c88d-48a8-b04a-db7cdb8d0198",
   "metadata": {},
   "outputs": [],
   "source": [
    "def devolver_valoraciones(usuario):\n",
    "    for i, elem in enumerate(filmnet):\n",
    "        if elem['usuario'] == usuario:\n",
    "            return(elem['valoraciones'])\n"
   ]
  },
  {
   "cell_type": "code",
   "execution_count": 14,
   "id": "7929ee03-12e4-485e-a489-7b9fd6170b01",
   "metadata": {},
   "outputs": [],
   "source": [
    "def calcularmedia(valoracion1,valoracion2):\n",
    "    cont = 0\n",
    "    suma1 = 0\n",
    "    suma2 = 0\n",
    "    r_a = []\n",
    "    r_b = []\n",
    "    for elem in valoracion1:\n",
    "        if elem in valoracion2:\n",
    "            cont += 1\n",
    "            suma1 += valoracion1.get(elem)\n",
    "            suma2 += valoracion2.get(elem)\n",
    "            r_a.append(valoracion1.get(elem))\n",
    "            r_b.append(valoracion2.get(elem))\n",
    "    return(r_a, r_b, suma1/cont, suma2/cont)\n"
   ]
  },
  {
   "cell_type": "code",
   "execution_count": 15,
   "id": "7ff07a56-aa39-483c-9ad4-befa1b029b5b",
   "metadata": {},
   "outputs": [],
   "source": [
    "import math\n",
    "def calcular_similitud(usuario1, usuario2):\n",
    "    val1 = devolver_valoraciones(usuario1)\n",
    "    val2 = devolver_valoraciones(usuario2)\n",
    "    r_a, r_b, r_a_med, r_b_med = calcularmedia(val1,val2)\n",
    "    \n",
    "    numerador = 0\n",
    "    denominador1 = 0\n",
    "    denominador2 = 0\n",
    "    \n",
    "    for i, elem in enumerate(r_a):\n",
    "        numerador += (elem - r_a_med) * (r_b[i] - r_b_med)\n",
    "        denominador1 +=  ((elem - r_a_med) ** 2)\n",
    "        denominador2 +=  ((r_b[i] - r_b_med) ** 2)\n",
    "\n",
    "    return(numerador/(math.sqrt(denominador1) * math.sqrt(denominador2)))\n"
   ]
  },
  {
   "cell_type": "code",
   "execution_count": 13,
   "id": "223491d0-1fb2-4b07-9912-210567ebfcbc",
   "metadata": {},
   "outputs": [
    {
     "data": {
      "text/plain": [
       "{'COBRA KAI': 5, 'CAFE CON AROMA DE MUJER': 3, 'SANDMAN': 4, 'ENOLA HOLMES': 4}"
      ]
     },
     "execution_count": 13,
     "metadata": {},
     "output_type": "execute_result"
    }
   ],
   "source": [
    "devolver_valoraciones('pantolin')"
   ]
  },
  {
   "cell_type": "code",
   "execution_count": 17,
   "id": "7fc9f680-278e-45fc-8fc2-40970b76a417",
   "metadata": {},
   "outputs": [
    {
     "name": "stdout",
     "output_type": "stream",
     "text": [
      "0.7071067811865475\n"
     ]
    }
   ],
   "source": [
    "print(calcular_similitud('pantolin','agarrido'))"
   ]
  },
  {
   "cell_type": "code",
   "execution_count": null,
   "id": "12723de2-6da8-4195-936f-9362e952afad",
   "metadata": {},
   "outputs": [],
   "source": []
  },
  {
   "cell_type": "markdown",
   "id": "a0baf4c6-b159-4aa9-950b-dfea8e7ebb51",
   "metadata": {},
   "source": [
    "Apartado 2"
   ]
  },
  {
   "cell_type": "code",
   "execution_count": 18,
   "id": "eb7bd5c0-cb5e-4b0c-b5e9-aebacd414205",
   "metadata": {},
   "outputs": [],
   "source": [
    "def calcular_similitudes():\n",
    "    matriz = {}\n",
    "    for i in range(0,len(usuarios)):\n",
    "        elem = {}\n",
    "        for j in range(0,len(usuarios)):\n",
    "            if i != j:\n",
    "                elem[usuarios[j]] = calcular_similitud(usuarios[i],usuarios[j])\n",
    "        matriz[usuarios[i]] = elem\n",
    "    return(matriz)\n"
   ]
  },
  {
   "cell_type": "code",
   "execution_count": 22,
   "id": "bf804e87-048e-4134-b600-54b30e81ea54",
   "metadata": {},
   "outputs": [],
   "source": [
    "m = calcular_similitudes()"
   ]
  },
  {
   "cell_type": "code",
   "execution_count": 24,
   "id": "60382f0c-675e-4358-a16e-81353b968240",
   "metadata": {},
   "outputs": [
    {
     "data": {
      "text/plain": [
       "{'saka92': 0.8528028654224417,\n",
       " 'agarrido': 0.7071067811865475,\n",
       " 'chari89': 0.0,\n",
       " 'mario_pzk': -0.7921180343813393}"
      ]
     },
     "execution_count": 24,
     "metadata": {},
     "output_type": "execute_result"
    }
   ],
   "source": [
    "m['pantolin']"
   ]
  },
  {
   "cell_type": "markdown",
   "id": "37dd239f-69c2-4d6f-9d6b-57b2d41aead0",
   "metadata": {},
   "source": [
    "Apartado 3"
   ]
  },
  {
   "cell_type": "code",
   "execution_count": 31,
   "id": "a8aa716a-d93d-4ed9-aa51-19674fa8719a",
   "metadata": {},
   "outputs": [],
   "source": [
    "def usuarios_parecidos(usuario, g):\n",
    "    l = []\n",
    "    valoracion = m[usuario]\n",
    "    for key, value in valoracion.items():\n",
    "        if value >= g:\n",
    "            l.append(key)\n",
    "    return l"
   ]
  },
  {
   "cell_type": "code",
   "execution_count": 33,
   "id": "e476f2e9-2515-4f48-bec2-907ba58db781",
   "metadata": {},
   "outputs": [
    {
     "data": {
      "text/plain": [
       "['saka92', 'agarrido']"
      ]
     },
     "execution_count": 33,
     "metadata": {},
     "output_type": "execute_result"
    }
   ],
   "source": [
    "usuarios_parecidos('pantolin',0.5)"
   ]
  },
  {
   "cell_type": "markdown",
   "id": "32997ac1-b5b9-4495-924b-62024a95c564",
   "metadata": {},
   "source": [
    "Apartado 4"
   ]
  },
  {
   "cell_type": "code",
   "execution_count": 60,
   "id": "80dcd14c-f97a-47c5-9d10-17f4390e28b9",
   "metadata": {},
   "outputs": [],
   "source": [
    "def devolver_series_sin_valorar():\n",
    "    falta = []\n",
    "    for i in range(0,len(filmnet)):\n",
    "        usuario = filmnet[i]['usuario']\n",
    "        valoracion = filmnet[i].get('valoraciones')\n",
    "        for j in range(0,len(series)):\n",
    "            if not series[j] in valoracion:\n",
    "                elem = {}\n",
    "                elem['usuario'] = usuario\n",
    "                elem['pelicula'] = series[j]\n",
    "                elem['posicion'] = i\n",
    "                falta.append(elem)\n",
    "    return(falta)\n",
    "                "
   ]
  },
  {
   "cell_type": "code",
   "execution_count": 52,
   "id": "c00a5100-e783-480c-809c-aa207c7f6a38",
   "metadata": {},
   "outputs": [
    {
     "name": "stdout",
     "output_type": "stream",
     "text": [
      "[{'usuario': 'pantolin', 'posicion': 0}]\n"
     ]
    }
   ],
   "source": [
    "print(devolver_series_sin_valorar())"
   ]
  },
  {
   "cell_type": "markdown",
   "id": "a31557f5-aeaa-4e10-8bac-46b644016de2",
   "metadata": {},
   "source": [
    "apartado 5"
   ]
  },
  {
   "cell_type": "code",
   "execution_count": 54,
   "id": "113d027c-0380-412b-aecb-91b92f01633e",
   "metadata": {},
   "outputs": [],
   "source": [
    "import statistics\n",
    "def calcular_media_total(usu):\n",
    "    val = devolver_valoraciones(usu)\n",
    "    return(statistics.mean(tuple(val.values())))\n",
    "\n",
    "def prediccion(usu, pelicula):\n",
    "    l = usuarios_parecidos(usu,0.7)\n",
    "    numerador = 0\n",
    "    denominador = 0\n",
    "    for i in l:\n",
    "        numerador += m[usu][i] * (devolver_valoraciones(i).get(pelicula,0) - calcular_media_total(i))\n",
    "        denominador += m[usu][i]\n",
    "    return(numerador / denominador + calcular_media_total(usu))\n",
    "\n",
    "\n"
   ]
  },
  {
   "cell_type": "code",
   "execution_count": 56,
   "id": "729808fc-16c9-4e7e-950a-61e4791dbb50",
   "metadata": {},
   "outputs": [
    {
     "data": {
      "text/plain": [
       "4.871979899370592"
      ]
     },
     "execution_count": 56,
     "metadata": {},
     "output_type": "execute_result"
    }
   ],
   "source": [
    "prediccion('pantolin','STRANGER THINGS')"
   ]
  },
  {
   "cell_type": "markdown",
   "id": "b94f5fc6-7cda-4042-8435-db8e660cbeef",
   "metadata": {},
   "source": [
    "Apartado 6"
   ]
  },
  {
   "cell_type": "code",
   "execution_count": 62,
   "id": "53804f1b-392e-4ded-9e47-a3522b16f33f",
   "metadata": {},
   "outputs": [
    {
     "name": "stdout",
     "output_type": "stream",
     "text": [
      "[{'usuario': 'pantolin', 'valoraciones': {'COBRA KAI': 5, 'CAFE CON AROMA DE MUJER': 3, 'SANDMAN': 4, 'ENOLA HOLMES': 4}, 'predicciones': {'STRANGER THINGS': 4.871979899370592}}, {'usuario': 'saka92', 'valoraciones': {'COBRA KAI': 3, 'CAFE CON AROMA DE MUJER': 1, 'SANDMAN': 2, 'ENOLA HOLMES': 3, 'STRANGER THINGS': 3}}, {'usuario': 'agarrido', 'valoraciones': {'COBRA KAI': 4, 'CAFE CON AROMA DE MUJER': 3, 'SANDMAN': 4, 'ENOLA HOLMES': 3, 'STRANGER THINGS': 5}}, {'usuario': 'chari89', 'valoraciones': {'COBRA KAI': 3, 'CAFE CON AROMA DE MUJER': 3, 'SANDMAN': 1, 'ENOLA HOLMES': 5, 'STRANGER THINGS': 4}}, {'usuario': 'mario_pzk', 'valoraciones': {'COBRA KAI': 1, 'CAFE CON AROMA DE MUJER': 5, 'SANDMAN': 5, 'ENOLA HOLMES': 2, 'STRANGER THINGS': 1}}]\n"
     ]
    }
   ],
   "source": [
    "sinvalorar = devolver_series_sin_valorar()\n",
    "filmnet_pred = filmnet\n",
    "for elem in sinvalorar:\n",
    "    usuario = elem['usuario']\n",
    "    pelicula = elem['pelicula']\n",
    "    posicion = elem['posicion']\n",
    "    if ('predicciones' in filmnet_pred[posicion]):\n",
    "        d_aux = filmnet[posicion]['predicciones']\n",
    "    else:\n",
    "        d_aux = {}\n",
    "    d_aux[pelicula] = prediccion(usuario,pelicula)\n",
    "    filmnet[posicion]['predicciones'] = d_aux\n",
    "    print(filmnet)\n",
    "\n"
   ]
  }
 ],
 "metadata": {
  "kernelspec": {
   "display_name": "Python 3 (ipykernel)",
   "language": "python",
   "name": "python3"
  },
  "language_info": {
   "codemirror_mode": {
    "name": "ipython",
    "version": 3
   },
   "file_extension": ".py",
   "mimetype": "text/x-python",
   "name": "python",
   "nbconvert_exporter": "python",
   "pygments_lexer": "ipython3",
   "version": "3.11.7"
  }
 },
 "nbformat": 4,
 "nbformat_minor": 5
}
